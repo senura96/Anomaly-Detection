{
  "nbformat": 4,
  "nbformat_minor": 0,
  "metadata": {
    "colab": {
      "provenance": []
    },
    "kernelspec": {
      "name": "python3",
      "display_name": "Python 3"
    },
    "language_info": {
      "name": "python"
    },
    "accelerator": "TPU",
    "gpuClass": "standard"
  },
  "cells": [
    {
      "cell_type": "code",
      "execution_count": 43,
      "metadata": {
        "id": "-IotaHGxp6Bf"
      },
      "outputs": [],
      "source": [
        "import pandas as pd\n",
        "import seaborn as sns\n",
        "from sklearn.ensemble import IsolationForest\n",
        "from sklearn.preprocessing import StandardScaler, LabelEncoder , OneHotEncoder\n",
        "from sklearn.impute import SimpleImputer"
      ]
    },
    {
      "cell_type": "code",
      "source": [
        "from sklearn.impute import SimpleImputer\n",
        "from sklearn.preprocessing import StandardScaler, LabelEncoder\n",
        "import pandas as pd\n",
        "\n",
        "class DataPreprocessor:\n",
        "    def __init__(self, data_path ):\n",
        "        self.data_path = data_path\n",
        "        self.df = None\n",
        "        self.num_cols = None\n",
        "        self.cat_cols = None\n",
        "        self.num_imputer = SimpleImputer(strategy='mean')\n",
        "        self.cat_imputer = SimpleImputer(strategy='most_frequent')\n",
        "        self.scaler = StandardScaler()\n",
        "        self.encoder = LabelEncoder()\n",
        "        self.encoders = {}\n",
        "        \n",
        "    def load_data(self):\n",
        "        self.df = pd.read_csv(self.data_path)\n",
        "\n",
        "     \n",
        "        \n",
        "    def impute_missing_values(self):\n",
        "        self.num_cols = self.df.select_dtypes(include=['int64', 'float64']).columns\n",
        "        self.cat_cols = self.df.select_dtypes(include=['object']).columns\n",
        "        self.df[self.num_cols] = self.num_imputer.fit_transform(self.df[self.num_cols])\n",
        "        self.df[self.cat_cols] = self.cat_imputer.fit_transform(self.df[self.cat_cols])\n",
        "        \n",
        "    def scale_numeric_values(self):\n",
        "        self.df[self.num_cols] = self.scaler.fit_transform(self.df[self.num_cols])\n",
        "        \n",
        "    def encode_categorical_values(self):\n",
        "        for col in self.cat_cols:\n",
        "            encoder = LabelEncoder()\n",
        "            self.df[col] = encoder.fit_transform(self.df[col])\n",
        "            self.encoders[col] = encoder\n",
        "            \n",
        "    def save_preprocessed_data(self, output_path):\n",
        "        self.df.to_csv(output_path, index=False)\n",
        "\n",
        "\n",
        "        \n",
        "    def transform_test_data(self, test_data_path):\n",
        "        test_df = pd.read_csv(test_data_path)\n",
        "        test_df[self.num_cols] = self.num_imputer.transform(test_df[self.num_cols])\n",
        "        test_df[self.cat_cols] = self.cat_imputer.transform(test_df[self.cat_cols])\n",
        "        test_df[self.num_cols] = self.scaler.transform(test_df[self.num_cols])\n",
        "        for col in self.cat_cols:\n",
        "            encoder = self.encoders[col]\n",
        "            test_df[col] = encoder.fit_transform(test_df[col])\n",
        "        return test_df"
      ],
      "metadata": {
        "id": "8D0uZQ8nsGFV"
      },
      "execution_count": 47,
      "outputs": []
    },
    {
      "cell_type": "code",
      "source": [
        "preprocessor = DataPreprocessor('/content/dataset.csv')"
      ],
      "metadata": {
        "id": "nOU_ns3rsKUO"
      },
      "execution_count": 76,
      "outputs": []
    },
    {
      "cell_type": "code",
      "source": [],
      "metadata": {
        "id": "NDkq4PiwFYyT"
      },
      "execution_count": 76,
      "outputs": []
    },
    {
      "cell_type": "code",
      "source": [
        "preprocessor.load_data()\n",
        "preprocessor.impute_missing_values()\n",
        "preprocessor.scale_numeric_values()\n",
        "preprocessor.encode_categorical_values()\n",
        "preprocessor.save_preprocessed_data('preprocessed_data.csv')"
      ],
      "metadata": {
        "id": "BZ1d73l8sMVY"
      },
      "execution_count": 77,
      "outputs": []
    },
    {
      "cell_type": "code",
      "source": [
        "train_data  = pd.read_csv('/content/preprocessed_data.csv')"
      ],
      "metadata": {
        "id": "MKF-HXwF6PO_"
      },
      "execution_count": 78,
      "outputs": []
    },
    {
      "cell_type": "code",
      "source": [
        "train_columns = train_data.columns"
      ],
      "metadata": {
        "id": "DXXJigL8DvNj"
      },
      "execution_count": 79,
      "outputs": []
    },
    {
      "cell_type": "code",
      "source": [
        "train_columns"
      ],
      "metadata": {
        "colab": {
          "base_uri": "https://localhost:8080/"
        },
        "id": "KnLq5ZGCFb_t",
        "outputId": "eda9c8a6-f54e-42b7-ff91-e7e692dd60f2"
      },
      "execution_count": 80,
      "outputs": [
        {
          "output_type": "execute_result",
          "data": {
            "text/plain": [
              "Index(['MSISDN', 'TRANSACTION_DATE', 'TRANSACTION_TYPE', 'TONECODE',\n",
              "       'TONENAME', 'ARTIST', 'VENDOR', 'GENRE', 'LANGUAGE', 'DOWNLOAD_MEDIUM',\n",
              "       'AUTO_RENEWAL_DATE', 'AUTO_RENEWAL_STATUE', 'AMOUNT', 'CHARGED_AMOUNT',\n",
              "       'SUBSCRIPTION_DATE', 'TRANSACTION_STATUS', 'FAIL_REASON',\n",
              "       'GIFT_COPY_NUMBER', 'UPLOAD_DATE', 'TIME_KEY', 'MSISDN_ENCR_INT',\n",
              "       'BATCH_ID', 'INSERT_DATE_TIME', 'UPDATE_DATE_TIME'],\n",
              "      dtype='object')"
            ]
          },
          "metadata": {},
          "execution_count": 80
        }
      ]
    },
    {
      "cell_type": "code",
      "source": [],
      "metadata": {
        "id": "OGTKdPBQFfqM"
      },
      "execution_count": 80,
      "outputs": []
    },
    {
      "cell_type": "code",
      "source": [
        "\n",
        "model_IF = IsolationForest(contamination=float(0.1),random_state=42)"
      ],
      "metadata": {
        "id": "Nx9Z3Euaux8S"
      },
      "execution_count": 81,
      "outputs": []
    },
    {
      "cell_type": "code",
      "source": [
        "\n",
        "model_IF.fit(train_data)"
      ],
      "metadata": {
        "colab": {
          "base_uri": "https://localhost:8080/",
          "height": 112
        },
        "id": "C2vcBGjo6Kq6",
        "outputId": "d1e65866-1257-410e-d63b-213625f8a424"
      },
      "execution_count": 83,
      "outputs": [
        {
          "output_type": "stream",
          "name": "stderr",
          "text": [
            "/usr/local/lib/python3.8/dist-packages/sklearn/base.py:420: UserWarning: X does not have valid feature names, but IsolationForest was fitted with feature names\n",
            "  warnings.warn(\n"
          ]
        },
        {
          "output_type": "execute_result",
          "data": {
            "text/plain": [
              "IsolationForest(contamination=0.1, random_state=42)"
            ],
            "text/html": [
              "<style>#sk-container-id-5 {color: black;background-color: white;}#sk-container-id-5 pre{padding: 0;}#sk-container-id-5 div.sk-toggleable {background-color: white;}#sk-container-id-5 label.sk-toggleable__label {cursor: pointer;display: block;width: 100%;margin-bottom: 0;padding: 0.3em;box-sizing: border-box;text-align: center;}#sk-container-id-5 label.sk-toggleable__label-arrow:before {content: \"▸\";float: left;margin-right: 0.25em;color: #696969;}#sk-container-id-5 label.sk-toggleable__label-arrow:hover:before {color: black;}#sk-container-id-5 div.sk-estimator:hover label.sk-toggleable__label-arrow:before {color: black;}#sk-container-id-5 div.sk-toggleable__content {max-height: 0;max-width: 0;overflow: hidden;text-align: left;background-color: #f0f8ff;}#sk-container-id-5 div.sk-toggleable__content pre {margin: 0.2em;color: black;border-radius: 0.25em;background-color: #f0f8ff;}#sk-container-id-5 input.sk-toggleable__control:checked~div.sk-toggleable__content {max-height: 200px;max-width: 100%;overflow: auto;}#sk-container-id-5 input.sk-toggleable__control:checked~label.sk-toggleable__label-arrow:before {content: \"▾\";}#sk-container-id-5 div.sk-estimator input.sk-toggleable__control:checked~label.sk-toggleable__label {background-color: #d4ebff;}#sk-container-id-5 div.sk-label input.sk-toggleable__control:checked~label.sk-toggleable__label {background-color: #d4ebff;}#sk-container-id-5 input.sk-hidden--visually {border: 0;clip: rect(1px 1px 1px 1px);clip: rect(1px, 1px, 1px, 1px);height: 1px;margin: -1px;overflow: hidden;padding: 0;position: absolute;width: 1px;}#sk-container-id-5 div.sk-estimator {font-family: monospace;background-color: #f0f8ff;border: 1px dotted black;border-radius: 0.25em;box-sizing: border-box;margin-bottom: 0.5em;}#sk-container-id-5 div.sk-estimator:hover {background-color: #d4ebff;}#sk-container-id-5 div.sk-parallel-item::after {content: \"\";width: 100%;border-bottom: 1px solid gray;flex-grow: 1;}#sk-container-id-5 div.sk-label:hover label.sk-toggleable__label {background-color: #d4ebff;}#sk-container-id-5 div.sk-serial::before {content: \"\";position: absolute;border-left: 1px solid gray;box-sizing: border-box;top: 0;bottom: 0;left: 50%;z-index: 0;}#sk-container-id-5 div.sk-serial {display: flex;flex-direction: column;align-items: center;background-color: white;padding-right: 0.2em;padding-left: 0.2em;position: relative;}#sk-container-id-5 div.sk-item {position: relative;z-index: 1;}#sk-container-id-5 div.sk-parallel {display: flex;align-items: stretch;justify-content: center;background-color: white;position: relative;}#sk-container-id-5 div.sk-item::before, #sk-container-id-5 div.sk-parallel-item::before {content: \"\";position: absolute;border-left: 1px solid gray;box-sizing: border-box;top: 0;bottom: 0;left: 50%;z-index: -1;}#sk-container-id-5 div.sk-parallel-item {display: flex;flex-direction: column;z-index: 1;position: relative;background-color: white;}#sk-container-id-5 div.sk-parallel-item:first-child::after {align-self: flex-end;width: 50%;}#sk-container-id-5 div.sk-parallel-item:last-child::after {align-self: flex-start;width: 50%;}#sk-container-id-5 div.sk-parallel-item:only-child::after {width: 0;}#sk-container-id-5 div.sk-dashed-wrapped {border: 1px dashed gray;margin: 0 0.4em 0.5em 0.4em;box-sizing: border-box;padding-bottom: 0.4em;background-color: white;}#sk-container-id-5 div.sk-label label {font-family: monospace;font-weight: bold;display: inline-block;line-height: 1.2em;}#sk-container-id-5 div.sk-label-container {text-align: center;}#sk-container-id-5 div.sk-container {/* jupyter's `normalize.less` sets `[hidden] { display: none; }` but bootstrap.min.css set `[hidden] { display: none !important; }` so we also need the `!important` here to be able to override the default hidden behavior on the sphinx rendered scikit-learn.org. See: https://github.com/scikit-learn/scikit-learn/issues/21755 */display: inline-block !important;position: relative;}#sk-container-id-5 div.sk-text-repr-fallback {display: none;}</style><div id=\"sk-container-id-5\" class=\"sk-top-container\"><div class=\"sk-text-repr-fallback\"><pre>IsolationForest(contamination=0.1, random_state=42)</pre><b>In a Jupyter environment, please rerun this cell to show the HTML representation or trust the notebook. <br />On GitHub, the HTML representation is unable to render, please try loading this page with nbviewer.org.</b></div><div class=\"sk-container\" hidden><div class=\"sk-item\"><div class=\"sk-estimator sk-toggleable\"><input class=\"sk-toggleable__control sk-hidden--visually\" id=\"sk-estimator-id-5\" type=\"checkbox\" checked><label for=\"sk-estimator-id-5\" class=\"sk-toggleable__label sk-toggleable__label-arrow\">IsolationForest</label><div class=\"sk-toggleable__content\"><pre>IsolationForest(contamination=0.1, random_state=42)</pre></div></div></div></div></div>"
            ]
          },
          "metadata": {},
          "execution_count": 83
        }
      ]
    },
    {
      "cell_type": "code",
      "source": [
        "train_data.head(5)\n"
      ],
      "metadata": {
        "colab": {
          "base_uri": "https://localhost:8080/",
          "height": 299
        },
        "id": "JLbdyb6ABDH5",
        "outputId": "c759e755-49b9-431e-9a69-a1c2f5ae7f68"
      },
      "execution_count": 84,
      "outputs": [
        {
          "output_type": "execute_result",
          "data": {
            "text/plain": [
              "   MSISDN  TRANSACTION_DATE  TRANSACTION_TYPE  TONECODE  TONENAME  ARTIST  \\\n",
              "0       0             34311                 1 -0.612567      2256     759   \n",
              "1       0             34312                 1 -0.670202      1460    1036   \n",
              "2       0             34313                 1 -0.669974      1593    1321   \n",
              "3       0             34314                 1 -0.610241      3473     759   \n",
              "4       0             34315                 3 -0.062233       334     971   \n",
              "\n",
              "   VENDOR  GENRE  LANGUAGE  DOWNLOAD_MEDIUM  ...  SUBSCRIPTION_DATE  \\\n",
              "0      30     35         6                5  ...               5033   \n",
              "1      47     27         6                9  ...              46014   \n",
              "2       7     35         6                7  ...              42201   \n",
              "3      30     35         6                0  ...              30577   \n",
              "4      15     35         6                7  ...              46834   \n",
              "\n",
              "   TRANSACTION_STATUS  FAIL_REASON  GIFT_COPY_NUMBER  UPLOAD_DATE  TIME_KEY  \\\n",
              "0                   1            3               0.0            7  1.291219   \n",
              "1                   1            3               0.0            7  1.291219   \n",
              "2                   1            3               0.0            7  1.291219   \n",
              "3                   1            3               0.0            7  1.291219   \n",
              "4                   1            3               0.0            7  1.291219   \n",
              "\n",
              "   MSISDN_ENCR_INT  BATCH_ID  INSERT_DATE_TIME  UPDATE_DATE_TIME  \n",
              "0        -0.306742         7                 7                 7  \n",
              "1        -0.185252         7                 7                 7  \n",
              "2        -0.348710         7                 7                 7  \n",
              "3         0.579068         7                 7                 7  \n",
              "4         0.597830         7                 7                 7  \n",
              "\n",
              "[5 rows x 24 columns]"
            ],
            "text/html": [
              "\n",
              "  <div id=\"df-e74e1706-0af6-4552-841b-d4ccd3380df0\">\n",
              "    <div class=\"colab-df-container\">\n",
              "      <div>\n",
              "<style scoped>\n",
              "    .dataframe tbody tr th:only-of-type {\n",
              "        vertical-align: middle;\n",
              "    }\n",
              "\n",
              "    .dataframe tbody tr th {\n",
              "        vertical-align: top;\n",
              "    }\n",
              "\n",
              "    .dataframe thead th {\n",
              "        text-align: right;\n",
              "    }\n",
              "</style>\n",
              "<table border=\"1\" class=\"dataframe\">\n",
              "  <thead>\n",
              "    <tr style=\"text-align: right;\">\n",
              "      <th></th>\n",
              "      <th>MSISDN</th>\n",
              "      <th>TRANSACTION_DATE</th>\n",
              "      <th>TRANSACTION_TYPE</th>\n",
              "      <th>TONECODE</th>\n",
              "      <th>TONENAME</th>\n",
              "      <th>ARTIST</th>\n",
              "      <th>VENDOR</th>\n",
              "      <th>GENRE</th>\n",
              "      <th>LANGUAGE</th>\n",
              "      <th>DOWNLOAD_MEDIUM</th>\n",
              "      <th>...</th>\n",
              "      <th>SUBSCRIPTION_DATE</th>\n",
              "      <th>TRANSACTION_STATUS</th>\n",
              "      <th>FAIL_REASON</th>\n",
              "      <th>GIFT_COPY_NUMBER</th>\n",
              "      <th>UPLOAD_DATE</th>\n",
              "      <th>TIME_KEY</th>\n",
              "      <th>MSISDN_ENCR_INT</th>\n",
              "      <th>BATCH_ID</th>\n",
              "      <th>INSERT_DATE_TIME</th>\n",
              "      <th>UPDATE_DATE_TIME</th>\n",
              "    </tr>\n",
              "  </thead>\n",
              "  <tbody>\n",
              "    <tr>\n",
              "      <th>0</th>\n",
              "      <td>0</td>\n",
              "      <td>34311</td>\n",
              "      <td>1</td>\n",
              "      <td>-0.612567</td>\n",
              "      <td>2256</td>\n",
              "      <td>759</td>\n",
              "      <td>30</td>\n",
              "      <td>35</td>\n",
              "      <td>6</td>\n",
              "      <td>5</td>\n",
              "      <td>...</td>\n",
              "      <td>5033</td>\n",
              "      <td>1</td>\n",
              "      <td>3</td>\n",
              "      <td>0.0</td>\n",
              "      <td>7</td>\n",
              "      <td>1.291219</td>\n",
              "      <td>-0.306742</td>\n",
              "      <td>7</td>\n",
              "      <td>7</td>\n",
              "      <td>7</td>\n",
              "    </tr>\n",
              "    <tr>\n",
              "      <th>1</th>\n",
              "      <td>0</td>\n",
              "      <td>34312</td>\n",
              "      <td>1</td>\n",
              "      <td>-0.670202</td>\n",
              "      <td>1460</td>\n",
              "      <td>1036</td>\n",
              "      <td>47</td>\n",
              "      <td>27</td>\n",
              "      <td>6</td>\n",
              "      <td>9</td>\n",
              "      <td>...</td>\n",
              "      <td>46014</td>\n",
              "      <td>1</td>\n",
              "      <td>3</td>\n",
              "      <td>0.0</td>\n",
              "      <td>7</td>\n",
              "      <td>1.291219</td>\n",
              "      <td>-0.185252</td>\n",
              "      <td>7</td>\n",
              "      <td>7</td>\n",
              "      <td>7</td>\n",
              "    </tr>\n",
              "    <tr>\n",
              "      <th>2</th>\n",
              "      <td>0</td>\n",
              "      <td>34313</td>\n",
              "      <td>1</td>\n",
              "      <td>-0.669974</td>\n",
              "      <td>1593</td>\n",
              "      <td>1321</td>\n",
              "      <td>7</td>\n",
              "      <td>35</td>\n",
              "      <td>6</td>\n",
              "      <td>7</td>\n",
              "      <td>...</td>\n",
              "      <td>42201</td>\n",
              "      <td>1</td>\n",
              "      <td>3</td>\n",
              "      <td>0.0</td>\n",
              "      <td>7</td>\n",
              "      <td>1.291219</td>\n",
              "      <td>-0.348710</td>\n",
              "      <td>7</td>\n",
              "      <td>7</td>\n",
              "      <td>7</td>\n",
              "    </tr>\n",
              "    <tr>\n",
              "      <th>3</th>\n",
              "      <td>0</td>\n",
              "      <td>34314</td>\n",
              "      <td>1</td>\n",
              "      <td>-0.610241</td>\n",
              "      <td>3473</td>\n",
              "      <td>759</td>\n",
              "      <td>30</td>\n",
              "      <td>35</td>\n",
              "      <td>6</td>\n",
              "      <td>0</td>\n",
              "      <td>...</td>\n",
              "      <td>30577</td>\n",
              "      <td>1</td>\n",
              "      <td>3</td>\n",
              "      <td>0.0</td>\n",
              "      <td>7</td>\n",
              "      <td>1.291219</td>\n",
              "      <td>0.579068</td>\n",
              "      <td>7</td>\n",
              "      <td>7</td>\n",
              "      <td>7</td>\n",
              "    </tr>\n",
              "    <tr>\n",
              "      <th>4</th>\n",
              "      <td>0</td>\n",
              "      <td>34315</td>\n",
              "      <td>3</td>\n",
              "      <td>-0.062233</td>\n",
              "      <td>334</td>\n",
              "      <td>971</td>\n",
              "      <td>15</td>\n",
              "      <td>35</td>\n",
              "      <td>6</td>\n",
              "      <td>7</td>\n",
              "      <td>...</td>\n",
              "      <td>46834</td>\n",
              "      <td>1</td>\n",
              "      <td>3</td>\n",
              "      <td>0.0</td>\n",
              "      <td>7</td>\n",
              "      <td>1.291219</td>\n",
              "      <td>0.597830</td>\n",
              "      <td>7</td>\n",
              "      <td>7</td>\n",
              "      <td>7</td>\n",
              "    </tr>\n",
              "  </tbody>\n",
              "</table>\n",
              "<p>5 rows × 24 columns</p>\n",
              "</div>\n",
              "      <button class=\"colab-df-convert\" onclick=\"convertToInteractive('df-e74e1706-0af6-4552-841b-d4ccd3380df0')\"\n",
              "              title=\"Convert this dataframe to an interactive table.\"\n",
              "              style=\"display:none;\">\n",
              "        \n",
              "  <svg xmlns=\"http://www.w3.org/2000/svg\" height=\"24px\"viewBox=\"0 0 24 24\"\n",
              "       width=\"24px\">\n",
              "    <path d=\"M0 0h24v24H0V0z\" fill=\"none\"/>\n",
              "    <path d=\"M18.56 5.44l.94 2.06.94-2.06 2.06-.94-2.06-.94-.94-2.06-.94 2.06-2.06.94zm-11 1L8.5 8.5l.94-2.06 2.06-.94-2.06-.94L8.5 2.5l-.94 2.06-2.06.94zm10 10l.94 2.06.94-2.06 2.06-.94-2.06-.94-.94-2.06-.94 2.06-2.06.94z\"/><path d=\"M17.41 7.96l-1.37-1.37c-.4-.4-.92-.59-1.43-.59-.52 0-1.04.2-1.43.59L10.3 9.45l-7.72 7.72c-.78.78-.78 2.05 0 2.83L4 21.41c.39.39.9.59 1.41.59.51 0 1.02-.2 1.41-.59l7.78-7.78 2.81-2.81c.8-.78.8-2.07 0-2.86zM5.41 20L4 18.59l7.72-7.72 1.47 1.35L5.41 20z\"/>\n",
              "  </svg>\n",
              "      </button>\n",
              "      \n",
              "  <style>\n",
              "    .colab-df-container {\n",
              "      display:flex;\n",
              "      flex-wrap:wrap;\n",
              "      gap: 12px;\n",
              "    }\n",
              "\n",
              "    .colab-df-convert {\n",
              "      background-color: #E8F0FE;\n",
              "      border: none;\n",
              "      border-radius: 50%;\n",
              "      cursor: pointer;\n",
              "      display: none;\n",
              "      fill: #1967D2;\n",
              "      height: 32px;\n",
              "      padding: 0 0 0 0;\n",
              "      width: 32px;\n",
              "    }\n",
              "\n",
              "    .colab-df-convert:hover {\n",
              "      background-color: #E2EBFA;\n",
              "      box-shadow: 0px 1px 2px rgba(60, 64, 67, 0.3), 0px 1px 3px 1px rgba(60, 64, 67, 0.15);\n",
              "      fill: #174EA6;\n",
              "    }\n",
              "\n",
              "    [theme=dark] .colab-df-convert {\n",
              "      background-color: #3B4455;\n",
              "      fill: #D2E3FC;\n",
              "    }\n",
              "\n",
              "    [theme=dark] .colab-df-convert:hover {\n",
              "      background-color: #434B5C;\n",
              "      box-shadow: 0px 1px 3px 1px rgba(0, 0, 0, 0.15);\n",
              "      filter: drop-shadow(0px 1px 2px rgba(0, 0, 0, 0.3));\n",
              "      fill: #FFFFFF;\n",
              "    }\n",
              "  </style>\n",
              "\n",
              "      <script>\n",
              "        const buttonEl =\n",
              "          document.querySelector('#df-e74e1706-0af6-4552-841b-d4ccd3380df0 button.colab-df-convert');\n",
              "        buttonEl.style.display =\n",
              "          google.colab.kernel.accessAllowed ? 'block' : 'none';\n",
              "\n",
              "        async function convertToInteractive(key) {\n",
              "          const element = document.querySelector('#df-e74e1706-0af6-4552-841b-d4ccd3380df0');\n",
              "          const dataTable =\n",
              "            await google.colab.kernel.invokeFunction('convertToInteractive',\n",
              "                                                     [key], {});\n",
              "          if (!dataTable) return;\n",
              "\n",
              "          const docLinkHtml = 'Like what you see? Visit the ' +\n",
              "            '<a target=\"_blank\" href=https://colab.research.google.com/notebooks/data_table.ipynb>data table notebook</a>'\n",
              "            + ' to learn more about interactive tables.';\n",
              "          element.innerHTML = '';\n",
              "          dataTable['output_type'] = 'display_data';\n",
              "          await google.colab.output.renderOutput(dataTable, element);\n",
              "          const docLink = document.createElement('div');\n",
              "          docLink.innerHTML = docLinkHtml;\n",
              "          element.appendChild(docLink);\n",
              "        }\n",
              "      </script>\n",
              "    </div>\n",
              "  </div>\n",
              "  "
            ]
          },
          "metadata": {},
          "execution_count": 84
        }
      ]
    },
    {
      "cell_type": "code",
      "source": [
        " predictions = model_IF.predict(train_data)"
      ],
      "metadata": {
        "id": "jxuBabqQECpk"
      },
      "execution_count": 86,
      "outputs": []
    },
    {
      "cell_type": "code",
      "source": [
        " predictions"
      ],
      "metadata": {
        "colab": {
          "base_uri": "https://localhost:8080/"
        },
        "id": "ltrJ-OjlGNgs",
        "outputId": "45196dbd-c629-46b1-fc4e-7ca30746a579"
      },
      "execution_count": 87,
      "outputs": [
        {
          "output_type": "execute_result",
          "data": {
            "text/plain": [
              "array([1, 1, 1, ..., 1, 1, 1])"
            ]
          },
          "metadata": {},
          "execution_count": 87
        }
      ]
    },
    {
      "cell_type": "code",
      "source": [],
      "metadata": {
        "id": "t79aVrkCGW7w"
      },
      "execution_count": null,
      "outputs": []
    }
  ]
}